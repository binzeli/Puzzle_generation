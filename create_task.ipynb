{
 "cells": [
  {
   "cell_type": "code",
   "execution_count": 16,
   "metadata": {},
   "outputs": [],
   "source": [
    "import sys\n",
    "import json\n",
    "sys.path.insert(0, '..')\n",
    "from create.create_game import register_json_folder, register_json_str\n",
    "\n",
    "# Set the matplotlib settings for rendering the result video to the notebook.\n",
    "# See the comment at the bottom for more information. \n",
    "%matplotlib inline\n",
    "import matplotlib.pyplot as plt\n",
    "plt.rcParams[\"animation.html\"] = \"html5\"\n",
    "import matplotlib.animation\n",
    "import gym"
   ]
  },
  {
   "cell_type": "code",
   "execution_count": 17,
   "metadata": {},
   "outputs": [
    {
     "name": "stderr",
     "output_type": "stream",
     "text": [
      "/home/bili/.local/lib/python3.8/site-packages/gym/envs/registration.py:216: UserWarning: \u001b[33mWARN: Overriding environment CreateLevelNavigateStart_Det-v0\u001b[0m\n",
      "  logger.warn(\"Overriding environment {}\".format(id))\n",
      "/home/bili/.local/lib/python3.8/site-packages/gym/envs/registration.py:216: UserWarning: \u001b[33mWARN: Overriding environment CreateLevelNavigateStart-v0\u001b[0m\n",
      "  logger.warn(\"Overriding environment {}\".format(id))\n",
      "/home/bili/.local/lib/python3.8/site-packages/gym/envs/registration.py:216: UserWarning: \u001b[33mWARN: Overriding environment CreateLevelNavigateStart_Rnd-v0\u001b[0m\n",
      "  logger.warn(\"Overriding environment {}\".format(id))\n"
     ]
    }
   ],
   "source": [
    "json_str = \"\"\" \n",
    "{\n",
    "    \"name\": \"NavigateStart\",\n",
    "    \"target\": \"[0.1, -0.35]\",\n",
    "    \"goal\": \"[-0.8,-0.89]\",\n",
    "    \"rnd\": {\n",
    "            \"_marker_ball:0\": \"[0,0]\",\n",
    "            \"target,medium_floor:0\": \"[0,0]\",\n",
    "            \"goal,medium_floor:1\": \"[0,0]\"\n",
    "        },\n",
    "    \"target_sec_goals\": [\n",
    "        \"[-0.1, -0.35]\"\n",
    "    ],\n",
    "    \"env\": [\n",
    "        {\n",
    "            \"name\": \"marker_ball\",\n",
    "            \"pos\": \"[-0.6, 0.9]\",\n",
    "            \"id\": 0\n",
    "        },\n",
    "        {\n",
    "            \"name\": \"medium_floor\",\n",
    "            \"pos\": \"[0.1, -0.46]\",\n",
    "            \"id\": 0,\n",
    "            \"thickness\": 1,\n",
    "            \"color\": \"STEELBLUE\"\n",
    "        },\n",
    "        {\n",
    "            \"name\": \"medium_floor\",\n",
    "            \"pos\": \"[-0.8,-1]\",\n",
    "            \"id\": 0,\n",
    "            \"thickness\": 1,\n",
    "            \"color\": \"STEELBLUE\"\n",
    "        },\n",
    "        {\n",
    "            \"name\": \"floor\",\n",
    "            \"pos\": \"[-0.5, 0.1]\",\n",
    "            \"length\": 40,\n",
    "            \"thickness\": 1,\n",
    "            \"color\": \"STEELBLUE\"\n",
    "        }\n",
    "    ]\n",
    "}\n",
    "\"\"\"\n",
    "\n",
    "register_json_str(json_str)\n"
   ]
  },
  {
   "cell_type": "code",
   "execution_count": 18,
   "metadata": {},
   "outputs": [
    {
     "data": {
      "text/plain": [
       "<matplotlib.image.AxesImage at 0x7fa86f663c40>"
      ]
     },
     "execution_count": 18,
     "metadata": {},
     "output_type": "execute_result"
    },
    {
     "data": {
      "image/png": "[encoded data removed]",
      "text/plain": [
       "<Figure size 640x480 with 1 Axes>"
      ]
     },
     "metadata": {},
     "output_type": "display_data"
    }
   ],
   "source": [
    "\n",
    "env2 = gym.make('CreateLevelNavigateStart-v0')\n",
    "\n",
    "# Try any environment here\n",
    "env = env2\n",
    "obs = env.reset()\n",
    "plt.imshow(env.render('rgb_array_high_mega_changed_colors'))\n"
   ]
  }
 ],
 "metadata": {
  "kernelspec": {
   "display_name": "Python 3",
   "language": "python",
   "name": "python3"
  },
  "language_info": {
   "codemirror_mode": {
    "name": "ipython",
    "version": 3
   },
   "file_extension": ".py",
   "mimetype": "text/x-python",
   "name": "python",
   "nbconvert_exporter": "python",
   "pygments_lexer": "ipython3",
   "version": "3.8.10"
  }
 },
 "nbformat": 4,
 "nbformat_minor": 2
}
